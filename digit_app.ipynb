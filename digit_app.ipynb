{
 "cells": [
  {
   "cell_type": "code",
   "execution_count": 141,
   "metadata": {},
   "outputs": [],
   "source": [
    "#pip install gradio"
   ]
  },
  {
   "cell_type": "code",
   "execution_count": 1,
   "metadata": {
    "scrolled": false
   },
   "outputs": [
    {
     "name": "stdout",
     "output_type": "stream",
     "text": [
      "Test launch: recognize_digit()... WARNING:tensorflow:Model was constructed with shape (None, None, None, None) for input KerasTensor(type_spec=TensorSpec(shape=(None, None, None, None), dtype=tf.float32, name='reshape_1_input'), name='reshape_1_input', description=\"created by layer 'reshape_1_input'\"), but it was called on an input with incompatible shape (None, 28, 28).\n",
      "PASSED\n",
      "Running locally at: http://127.0.0.1:7860/\n",
      "To create a public link, set `share=True` in `launch()`.\n",
      "Interface loading below...\n"
     ]
    },
    {
     "data": {
      "text/html": [
       "\n",
       "        <iframe\n",
       "            width=\"1000\"\n",
       "            height=\"500\"\n",
       "            src=\"http://127.0.0.1:7860/\"\n",
       "            frameborder=\"0\"\n",
       "            allowfullscreen\n",
       "        ></iframe>\n",
       "        "
      ],
      "text/plain": [
       "<IPython.lib.display.IFrame at 0x251c0485af0>"
      ]
     },
     "metadata": {},
     "output_type": "display_data"
    }
   ],
   "source": [
    "#pip install gradio\n",
    "import tensorflow as tf\n",
    "import gradio\n",
    "import gradio as gr\n",
    "import os\n",
    "\n",
    "model = tf.keras.models.load_model(\"cnn_v3.hdf5\")\n",
    "\n",
    "numbers=(0,1,2,3,4,5,6,7,8,9)\n",
    "\n",
    "def recognize_digit(image):\n",
    "    image = image.reshape(1, 28 ,28)\n",
    "    prediction = model.predict(image).flatten()\n",
    "    return {numbers[i]: float(prediction[i]) for i in range(10)}\n",
    "       \n",
    "iface = gr.Interface(\n",
    "    recognize_digit, \n",
    "    gradio.inputs.Image(shape=(28, 28), image_mode='L', invert_colors=True, source=\"canvas\"), \n",
    "    #\"label\",\n",
    "    gradio.outputs.Label(num_top_classes=3),\n",
    "    live=True,\n",
    "    interpretation=\"default\",\n",
    "    #capture_session=True,\n",
    ")\n",
    "\n",
    "iface.test_launch()\n",
    "\n",
    "if __name__ == \"__main__\":\n",
    "    iface.launch()"
   ]
  }
 ],
 "metadata": {
  "kernelspec": {
   "display_name": "Python 3",
   "language": "python",
   "name": "python3"
  },
  "language_info": {
   "codemirror_mode": {
    "name": "ipython",
    "version": 3
   },
   "file_extension": ".py",
   "mimetype": "text/x-python",
   "name": "python",
   "nbconvert_exporter": "python",
   "pygments_lexer": "ipython3",
   "version": "3.8.3"
  }
 },
 "nbformat": 4,
 "nbformat_minor": 4
}
